{
  "nbformat": 4,
  "nbformat_minor": 0,
  "metadata": {
    "colab": {
      "provenance": [],
      "machine_shape": "hm",
      "gpuType": "A100",
      "authorship_tag": "ABX9TyNjMik/ZiIbn/BtnjCcQSVe",
      "include_colab_link": true
    },
    "kernelspec": {
      "name": "python3",
      "display_name": "Python 3"
    },
    "language_info": {
      "name": "python"
    },
    "accelerator": "GPU"
  },
  "cells": [
    {
      "cell_type": "markdown",
      "metadata": {
        "id": "view-in-github",
        "colab_type": "text"
      },
      "source": [
        "<a href=\"https://colab.research.google.com/github/mspotanski/CSCI5527_Project/blob/main/code/finetune_resnet_CIFAR10.ipynb\" target=\"_parent\"><img src=\"https://colab.research.google.com/assets/colab-badge.svg\" alt=\"Open In Colab\"/></a>"
      ]
    },
    {
      "cell_type": "markdown",
      "source": [
        "# Fine Tuning ResNet on CIFAR10 dataset"
      ],
      "metadata": {
        "id": "cnq_4Eb-NUNf"
      }
    },
    {
      "cell_type": "markdown",
      "source": [
        "#### Set-up git environment"
      ],
      "metadata": {
        "id": "G0L3AfRIonlm"
      }
    },
    {
      "cell_type": "code",
      "source": [
        "# Clone repository in Google Colab: only needs to be done once\n",
        "# NOTE: If you have already done this, comment out all code EXCEPT cd command\n",
        "# from google.colab import auth\n",
        "# auth.authenticate_user()\n",
        "\n",
        "# # Set up Git (only needed once per session)\n",
        "# !git config --global user.email \"your_github_email@email.com\"\n",
        "# !git config --global user.name \"your_github_username\"\n",
        "\n",
        "# # Clone the repo:\n",
        "# !git clone https://github.com/mspotanski/CSCI5527_Project.git\n",
        "# %cd CSCI5527_Project"
      ],
      "metadata": {
        "colab": {
          "base_uri": "https://localhost:8080/"
        },
        "id": "uuGa6f3_ljbf",
        "outputId": "cb782dda-328e-42a3-8a61-d1536f9501b1"
      },
      "execution_count": 11,
      "outputs": [
        {
          "output_type": "stream",
          "name": "stdout",
          "text": [
            "[Errno 2] No such file or directory: 'CSCI5527_Project'\n",
            "/content/CSCI5527_Project\n"
          ]
        }
      ]
    },
    {
      "cell_type": "markdown",
      "source": [
        "### Fine-Tuning"
      ],
      "metadata": {
        "id": "7RUAsGJDou2z"
      }
    },
    {
      "cell_type": "code",
      "source": [
        "import torch\n",
        "from torchvision import models, datasets, transforms\n",
        "import torch.nn as nn\n",
        "import torch.optim as optim\n",
        "import pandas as pd\n",
        "import numpy as np"
      ],
      "metadata": {
        "id": "542qLMmHNdGK"
      },
      "execution_count": 27,
      "outputs": []
    },
    {
      "cell_type": "code",
      "source": [
        "# Set device\n",
        "if torch.cuda.is_available():\n",
        "  device = torch.device('cuda')\n",
        "else:\n",
        "  device = torch.device('cpu')"
      ],
      "metadata": {
        "id": "YhVEfxDiS8up"
      },
      "execution_count": 13,
      "outputs": []
    },
    {
      "cell_type": "code",
      "source": [
        "# Load flowers dataset and ResNet model\n",
        "# Normalize current dataset to specifics of original ImageNet dataset to stabilize and speed up learning\n",
        "# Reseize images to match previous implementation\n",
        "transform = transforms.Compose([\n",
        "    transforms.ToTensor(),\n",
        "    transforms.Resize((224,224)),\n",
        "    transforms.Normalize(mean=[0.485, 0.456, 0.406],\n",
        "                     std=[0.229, 0.224, 0.225])\n",
        "])\n",
        "\n",
        "# Load dataset\n",
        "# Want entire dataset, so need to do 3 different calss\n",
        "train = datasets.CIFAR10(root='./data', train=True, download=True,\n",
        "                            transform=transform)\n",
        "test = datasets.CIFAR10(root='./data', train=False, download=True,\n",
        "                           transform=transform)\n",
        "\n",
        "# Load ResNet model\n",
        "# For scalability, we will only use the 18-layer version as its the smallest\n",
        "model = torch.hub.load('pytorch/vision:v0.10.0', 'resnet18', pretrained=True)\n",
        "\n",
        "# Set up data pipelines for train,test, and val datasets\n",
        "train_loader = torch.utils.data.DataLoader(train, batch_size=64, shuffle=True)\n",
        "test_loader = torch.utils.data.DataLoader(test, batch_size=64, shuffle=True)\n",
        "\n",
        "# Modify ResNet Classifier for the 10 classes from the dataset\n",
        "num_features = model.fc.in_features\n",
        "model.fc = nn.Linear(num_features, 10)\n",
        "model = model.to(device)"
      ],
      "metadata": {
        "colab": {
          "base_uri": "https://localhost:8080/"
        },
        "id": "oU8DVPf5TuDS",
        "outputId": "ae3d836d-5272-4a80-a8a0-3d0beb9281ce"
      },
      "execution_count": 14,
      "outputs": [
        {
          "output_type": "stream",
          "name": "stderr",
          "text": [
            "Using cache found in /root/.cache/torch/hub/pytorch_vision_v0.10.0\n",
            "/usr/local/lib/python3.11/dist-packages/torchvision/models/_utils.py:208: UserWarning: The parameter 'pretrained' is deprecated since 0.13 and may be removed in the future, please use 'weights' instead.\n",
            "  warnings.warn(\n",
            "/usr/local/lib/python3.11/dist-packages/torchvision/models/_utils.py:223: UserWarning: Arguments other than a weight enum or `None` for 'weights' are deprecated since 0.13 and may be removed in the future. The current behavior is equivalent to passing `weights=ResNet18_Weights.IMAGENET1K_V1`. You can also use `weights=ResNet18_Weights.DEFAULT` to get the most up-to-date weights.\n",
            "  warnings.warn(msg)\n"
          ]
        }
      ]
    },
    {
      "cell_type": "code",
      "source": [
        "# Define opt, loss function, and hyperparameters\n",
        "loss_rate = 1e-4\n",
        "epochs = 30\n",
        "loss_crit = nn.CrossEntropyLoss()\n",
        "opt = optim.Adam(model.parameters(), lr=loss_rate)"
      ],
      "metadata": {
        "id": "QZxY2jY_chq7"
      },
      "execution_count": 15,
      "outputs": []
    },
    {
      "cell_type": "code",
      "source": [
        "# Fine-Tune ResNet18 on Flowers102 dataset with validation phase\n",
        "for epoch in range(epochs):\n",
        "    # Start training phase\n",
        "    model.train()\n",
        "    print(f\"Current Epoch: {epoch}\")\n",
        "    # Loop through images in train set\n",
        "    for images, labels in train_loader:\n",
        "        images, labels = images.to(device), labels.to(device)\n",
        "        opt.zero_grad()\n",
        "\n",
        "        # Make prediction at current step and evaluate loss\n",
        "        pred = model(images)\n",
        "        loss = loss_crit(pred, labels)\n",
        "\n",
        "        # Backpropogate and update model weights\n",
        "        loss.backward()\n",
        "        opt.step()\n"
      ],
      "metadata": {
        "colab": {
          "base_uri": "https://localhost:8080/"
        },
        "id": "UTSGRzZ7XVfI",
        "outputId": "c1b5a85f-edd7-409d-aafa-e5a9e2680ad7"
      },
      "execution_count": 16,
      "outputs": [
        {
          "output_type": "stream",
          "name": "stdout",
          "text": [
            "Current Epoch: 0\n",
            "Current Epoch: 1\n",
            "Current Epoch: 2\n",
            "Current Epoch: 3\n",
            "Current Epoch: 4\n",
            "Current Epoch: 5\n",
            "Current Epoch: 6\n",
            "Current Epoch: 7\n",
            "Current Epoch: 8\n",
            "Current Epoch: 9\n",
            "Current Epoch: 10\n",
            "Current Epoch: 11\n",
            "Current Epoch: 12\n",
            "Current Epoch: 13\n",
            "Current Epoch: 14\n",
            "Current Epoch: 15\n",
            "Current Epoch: 16\n",
            "Current Epoch: 17\n",
            "Current Epoch: 18\n",
            "Current Epoch: 19\n",
            "Current Epoch: 20\n",
            "Current Epoch: 21\n",
            "Current Epoch: 22\n",
            "Current Epoch: 23\n",
            "Current Epoch: 24\n",
            "Current Epoch: 25\n",
            "Current Epoch: 26\n",
            "Current Epoch: 27\n",
            "Current Epoch: 28\n",
            "Current Epoch: 29\n"
          ]
        }
      ]
    },
    {
      "cell_type": "code",
      "source": [
        "# Evaluate Accuracy of Model\n",
        "correct, total = 0, 0\n",
        "with torch.no_grad():\n",
        "    for images, labels in test_loader:\n",
        "        images, labels = images.to(device), labels.to(device)\n",
        "        pred = model(images)\n",
        "        _, predicted = pred.max(1)\n",
        "        total += labels.size(0)\n",
        "        correct += (predicted == labels).sum().item()\n",
        "\n",
        "# print and store accuracy value\n",
        "test_accuracy = 100 * correct / total\n",
        "print(f'Test Accuracy: {test_accuracy:.2f}%')"
      ],
      "metadata": {
        "colab": {
          "base_uri": "https://localhost:8080/"
        },
        "id": "0gmj4slzOsiH",
        "outputId": "493b521e-7031-4c39-e26c-e3ce52022667"
      },
      "execution_count": 17,
      "outputs": [
        {
          "output_type": "stream",
          "name": "stdout",
          "text": [
            "Test Accuracy: 93.41%\n"
          ]
        }
      ]
    },
    {
      "cell_type": "code",
      "source": [
        "# Save fine-tuned model and weights\n",
        "torch.save(model.state_dict(), './model/resnet18_CIFAR10.pth')\n",
        "\n",
        "# NOTE: this saves model to the google colab local storage\n",
        "# be sure to download the .pth file, and upload to GitHub directly"
      ],
      "metadata": {
        "id": "18g5gSfQfG2Q"
      },
      "execution_count": 31,
      "outputs": []
    }
  ]
}