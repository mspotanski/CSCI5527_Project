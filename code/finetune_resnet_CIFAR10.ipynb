{
  "nbformat": 4,
  "nbformat_minor": 0,
  "metadata": {
    "colab": {
      "provenance": [],
      "machine_shape": "hm",
      "gpuType": "A100",
      "authorship_tag": "ABX9TyODj96vFoySSlliZhc7hhoU",
      "include_colab_link": true
    },
    "kernelspec": {
      "name": "python3",
      "display_name": "Python 3"
    },
    "language_info": {
      "name": "python"
    },
    "accelerator": "GPU"
  },
  "cells": [
    {
      "cell_type": "markdown",
      "metadata": {
        "id": "view-in-github",
        "colab_type": "text"
      },
      "source": [
        "<a href=\"https://colab.research.google.com/github/mspotanski/CSCI5527_Project/blob/main/code/finetune_resnet_CIFAR10.ipynb\" target=\"_parent\"><img src=\"https://colab.research.google.com/assets/colab-badge.svg\" alt=\"Open In Colab\"/></a>"
      ]
    },
    {
      "cell_type": "markdown",
      "source": [
        "# Fine Tuning ResNet on Flowers101 dataset"
      ],
      "metadata": {
        "id": "cnq_4Eb-NUNf"
      }
    },
    {
      "cell_type": "code",
      "source": [
        "import torch\n",
        "from torchvision import models, datasets, transforms\n",
        "import torch.nn as nn\n",
        "import torch.optim as optim\n",
        "import pandas as pd\n",
        "import numpy as np"
      ],
      "metadata": {
        "id": "542qLMmHNdGK"
      },
      "execution_count": 1,
      "outputs": []
    },
    {
      "cell_type": "code",
      "source": [
        "# Set device\n",
        "if torch.cuda.is_available():\n",
        "  device = torch.device('cuda')\n",
        "else:\n",
        "  device = torch.device('cpu')"
      ],
      "metadata": {
        "id": "YhVEfxDiS8up"
      },
      "execution_count": 2,
      "outputs": []
    },
    {
      "cell_type": "code",
      "source": [
        "# Load flowers dataset and ResNet model\n",
        "# Normalize current dataset to specifics of original ImageNet dataset to stabilize and speed up learning\n",
        "# Reseize images to match previous implementation\n",
        "transform = transforms.Compose([\n",
        "    transforms.ToTensor(),\n",
        "    transforms.Resize((224,224)),\n",
        "    transforms.Normalize(mean=[0.485, 0.456, 0.406],\n",
        "                     std=[0.229, 0.224, 0.225])\n",
        "])\n",
        "\n",
        "# Load dataset\n",
        "# Want entire dataset, so need to do 3 different calss\n",
        "train = datasets.CIFAR10(root='./data', train=True, download=True,\n",
        "                            transform=transform)\n",
        "test = datasets.CIFAR10(root='./data', train=False, download=True,\n",
        "                           transform=transform)\n",
        "\n",
        "# Load ResNet model\n",
        "# For scalability, we will only use the 18-layer version as its the smallest\n",
        "model = torch.hub.load('pytorch/vision:v0.10.0', 'resnet18', pretrained=True)\n",
        "\n",
        "# Set up data pipelines for train,test, and val datasets\n",
        "train_loader = torch.utils.data.DataLoader(train, batch_size=64, shuffle=True)\n",
        "test_loader = torch.utils.data.DataLoader(test, batch_size=64, shuffle=True)\n",
        "\n",
        "# Modify ResNet Classifier for the 10 classes from the dataset\n",
        "num_features = model.fc.in_features\n",
        "model.fc = nn.Linear(num_features, 10)\n",
        "model = model.to(device)"
      ],
      "metadata": {
        "colab": {
          "base_uri": "https://localhost:8080/"
        },
        "id": "oU8DVPf5TuDS",
        "outputId": "efa0a7fc-9c1b-45a4-8544-e2ec60661c6e"
      },
      "execution_count": 4,
      "outputs": [
        {
          "output_type": "stream",
          "name": "stderr",
          "text": [
            "100%|██████████| 170M/170M [00:12<00:00, 13.3MB/s]\n",
            "Downloading: \"https://github.com/pytorch/vision/zipball/v0.10.0\" to /root/.cache/torch/hub/v0.10.0.zip\n",
            "/usr/local/lib/python3.11/dist-packages/torchvision/models/_utils.py:208: UserWarning: The parameter 'pretrained' is deprecated since 0.13 and may be removed in the future, please use 'weights' instead.\n",
            "  warnings.warn(\n",
            "/usr/local/lib/python3.11/dist-packages/torchvision/models/_utils.py:223: UserWarning: Arguments other than a weight enum or `None` for 'weights' are deprecated since 0.13 and may be removed in the future. The current behavior is equivalent to passing `weights=ResNet18_Weights.IMAGENET1K_V1`. You can also use `weights=ResNet18_Weights.DEFAULT` to get the most up-to-date weights.\n",
            "  warnings.warn(msg)\n",
            "Downloading: \"https://download.pytorch.org/models/resnet18-f37072fd.pth\" to /root/.cache/torch/hub/checkpoints/resnet18-f37072fd.pth\n",
            "100%|██████████| 44.7M/44.7M [00:00<00:00, 231MB/s]\n"
          ]
        }
      ]
    },
    {
      "cell_type": "code",
      "source": [
        "# Define opt, loss function, and hyperparameters\n",
        "loss_rate = 1e-4\n",
        "epochs = 30\n",
        "loss_crit = nn.CrossEntropyLoss()\n",
        "opt = optim.Adam(model.parameters(), lr=loss_rate)"
      ],
      "metadata": {
        "id": "QZxY2jY_chq7"
      },
      "execution_count": 5,
      "outputs": []
    },
    {
      "cell_type": "code",
      "source": [
        "# Fine-Tune ResNet18 on Flowers102 dataset with validation phase\n",
        "for epoch in range(epochs):\n",
        "    # Start training phase\n",
        "    model.train()\n",
        "    print(f\"Current Epoch: {epoch}\")\n",
        "    # Loop through images in train set\n",
        "    for images, labels in train_loader:\n",
        "        images, labels = images.to(device), labels.to(device)\n",
        "        opt.zero_grad()\n",
        "\n",
        "        # Make prediction at current step and evaluate loss\n",
        "        pred = model(images)\n",
        "        loss = loss_crit(pred, labels)\n",
        "\n",
        "        # Backpropogate and update model weights\n",
        "        loss.backward()\n",
        "        opt.step()\n",
        ""
      ],
      "metadata": {
        "colab": {
          "base_uri": "https://localhost:8080/"
        },
        "id": "UTSGRzZ7XVfI",
        "outputId": "542d09c4-08ef-4646-f904-49eeaedd5b43"
      },
      "execution_count": 6,
      "outputs": [
        {
          "output_type": "stream",
          "name": "stdout",
          "text": [
            "Current Epoch: 0\n",
            "Current Epoch: 1\n",
            "Current Epoch: 2\n",
            "Current Epoch: 3\n",
            "Current Epoch: 4\n",
            "Current Epoch: 5\n",
            "Current Epoch: 6\n",
            "Current Epoch: 7\n",
            "Current Epoch: 8\n",
            "Current Epoch: 9\n",
            "Current Epoch: 10\n",
            "Current Epoch: 11\n",
            "Current Epoch: 12\n",
            "Current Epoch: 13\n",
            "Current Epoch: 14\n",
            "Current Epoch: 15\n",
            "Current Epoch: 16\n",
            "Current Epoch: 17\n",
            "Current Epoch: 18\n",
            "Current Epoch: 19\n",
            "Current Epoch: 20\n",
            "Current Epoch: 21\n",
            "Current Epoch: 22\n",
            "Current Epoch: 23\n",
            "Current Epoch: 24\n",
            "Current Epoch: 25\n",
            "Current Epoch: 26\n",
            "Current Epoch: 27\n",
            "Current Epoch: 28\n",
            "Current Epoch: 29\n"
          ]
        }
      ]
    },
    {
      "cell_type": "code",
      "source": [
        "# Evaluate Accuracy of Model\n",
        "correct, total = 0, 0\n",
        "with torch.no_grad():\n",
        "    for images, labels in test_loader:\n",
        "        images, labels = images.to(device), labels.to(device)\n",
        "        pred = model(images)\n",
        "        _, predicted = pred.max(1)\n",
        "        total += labels.size(0)\n",
        "        correct += (predicted == labels).sum().item()\n",
        "\n",
        "# print and store accuracy value\n",
        "test_accuracy = 100 * correct / total\n",
        "print(f'Test Accuracy: {test_accuracy:.2f}%')"
      ],
      "metadata": {
        "colab": {
          "base_uri": "https://localhost:8080/"
        },
        "id": "0gmj4slzOsiH",
        "outputId": "ed9d3be0-1a7c-4494-8442-b581a14ff99e"
      },
      "execution_count": 7,
      "outputs": [
        {
          "output_type": "stream",
          "name": "stdout",
          "text": [
            "Test Accuracy: 94.13%\n"
          ]
        }
      ]
    },
    {
      "cell_type": "code",
      "source": [
        "# Save fine-tuned model and weights\n",
        "# torch.save(model.state_dict(), './model/resnet18_flowers102.pth')"
      ],
      "metadata": {
        "id": "18g5gSfQfG2Q"
      },
      "execution_count": null,
      "outputs": []
    }
  ]
}