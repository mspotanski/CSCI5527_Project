{
  "nbformat": 4,
  "nbformat_minor": 0,
  "metadata": {
    "colab": {
      "provenance": [],
      "machine_shape": "hm",
      "gpuType": "A100"
    },
    "kernelspec": {
      "name": "python3",
      "display_name": "Python 3"
    },
    "language_info": {
      "name": "python"
    },
    "accelerator": "GPU",
    "widgets": {
      "application/vnd.jupyter.widget-state+json": {
        "390fde4a2c814e80965f611695b82eb9": {
          "model_module": "@jupyter-widgets/controls",
          "model_name": "HBoxModel",
          "model_module_version": "1.5.0",
          "state": {
            "_dom_classes": [],
            "_model_module": "@jupyter-widgets/controls",
            "_model_module_version": "1.5.0",
            "_model_name": "HBoxModel",
            "_view_count": null,
            "_view_module": "@jupyter-widgets/controls",
            "_view_module_version": "1.5.0",
            "_view_name": "HBoxView",
            "box_style": "",
            "children": [
              "IPY_MODEL_1c8965e68020461eb25b33d24f2d2ed0",
              "IPY_MODEL_4061dd942fb5430e96c5dc0aad2cd060",
              "IPY_MODEL_18d7e9e868e24b1aa57f935c56976d4d"
            ],
            "layout": "IPY_MODEL_4550a51334a840f3a2c6bdbab7e4d021"
          }
        },
        "1c8965e68020461eb25b33d24f2d2ed0": {
          "model_module": "@jupyter-widgets/controls",
          "model_name": "HTMLModel",
          "model_module_version": "1.5.0",
          "state": {
            "_dom_classes": [],
            "_model_module": "@jupyter-widgets/controls",
            "_model_module_version": "1.5.0",
            "_model_name": "HTMLModel",
            "_view_count": null,
            "_view_module": "@jupyter-widgets/controls",
            "_view_module_version": "1.5.0",
            "_view_name": "HTMLView",
            "description": "",
            "description_tooltip": null,
            "layout": "IPY_MODEL_4cb8fdbe96b14a069004fb8bdde5ea44",
            "placeholder": "​",
            "style": "IPY_MODEL_d55ff37706fa4c33843ee19a13dedbf6",
            "value": "Loading checkpoint shards: 100%"
          }
        },
        "4061dd942fb5430e96c5dc0aad2cd060": {
          "model_module": "@jupyter-widgets/controls",
          "model_name": "FloatProgressModel",
          "model_module_version": "1.5.0",
          "state": {
            "_dom_classes": [],
            "_model_module": "@jupyter-widgets/controls",
            "_model_module_version": "1.5.0",
            "_model_name": "FloatProgressModel",
            "_view_count": null,
            "_view_module": "@jupyter-widgets/controls",
            "_view_module_version": "1.5.0",
            "_view_name": "ProgressView",
            "bar_style": "success",
            "description": "",
            "description_tooltip": null,
            "layout": "IPY_MODEL_9b705a49de7b4837a25d5142598595dd",
            "max": 4,
            "min": 0,
            "orientation": "horizontal",
            "style": "IPY_MODEL_741bb79bf5384438af5202d3db8c1233",
            "value": 4
          }
        },
        "18d7e9e868e24b1aa57f935c56976d4d": {
          "model_module": "@jupyter-widgets/controls",
          "model_name": "HTMLModel",
          "model_module_version": "1.5.0",
          "state": {
            "_dom_classes": [],
            "_model_module": "@jupyter-widgets/controls",
            "_model_module_version": "1.5.0",
            "_model_name": "HTMLModel",
            "_view_count": null,
            "_view_module": "@jupyter-widgets/controls",
            "_view_module_version": "1.5.0",
            "_view_name": "HTMLView",
            "description": "",
            "description_tooltip": null,
            "layout": "IPY_MODEL_7c18186770f14e7090fba7bff648fdb4",
            "placeholder": "​",
            "style": "IPY_MODEL_6a755e39756340e8aaeb804c2121da27",
            "value": " 4/4 [00:18&lt;00:00,  3.88s/it]"
          }
        },
        "4550a51334a840f3a2c6bdbab7e4d021": {
          "model_module": "@jupyter-widgets/base",
          "model_name": "LayoutModel",
          "model_module_version": "1.2.0",
          "state": {
            "_model_module": "@jupyter-widgets/base",
            "_model_module_version": "1.2.0",
            "_model_name": "LayoutModel",
            "_view_count": null,
            "_view_module": "@jupyter-widgets/base",
            "_view_module_version": "1.2.0",
            "_view_name": "LayoutView",
            "align_content": null,
            "align_items": null,
            "align_self": null,
            "border": null,
            "bottom": null,
            "display": null,
            "flex": null,
            "flex_flow": null,
            "grid_area": null,
            "grid_auto_columns": null,
            "grid_auto_flow": null,
            "grid_auto_rows": null,
            "grid_column": null,
            "grid_gap": null,
            "grid_row": null,
            "grid_template_areas": null,
            "grid_template_columns": null,
            "grid_template_rows": null,
            "height": null,
            "justify_content": null,
            "justify_items": null,
            "left": null,
            "margin": null,
            "max_height": null,
            "max_width": null,
            "min_height": null,
            "min_width": null,
            "object_fit": null,
            "object_position": null,
            "order": null,
            "overflow": null,
            "overflow_x": null,
            "overflow_y": null,
            "padding": null,
            "right": null,
            "top": null,
            "visibility": null,
            "width": null
          }
        },
        "4cb8fdbe96b14a069004fb8bdde5ea44": {
          "model_module": "@jupyter-widgets/base",
          "model_name": "LayoutModel",
          "model_module_version": "1.2.0",
          "state": {
            "_model_module": "@jupyter-widgets/base",
            "_model_module_version": "1.2.0",
            "_model_name": "LayoutModel",
            "_view_count": null,
            "_view_module": "@jupyter-widgets/base",
            "_view_module_version": "1.2.0",
            "_view_name": "LayoutView",
            "align_content": null,
            "align_items": null,
            "align_self": null,
            "border": null,
            "bottom": null,
            "display": null,
            "flex": null,
            "flex_flow": null,
            "grid_area": null,
            "grid_auto_columns": null,
            "grid_auto_flow": null,
            "grid_auto_rows": null,
            "grid_column": null,
            "grid_gap": null,
            "grid_row": null,
            "grid_template_areas": null,
            "grid_template_columns": null,
            "grid_template_rows": null,
            "height": null,
            "justify_content": null,
            "justify_items": null,
            "left": null,
            "margin": null,
            "max_height": null,
            "max_width": null,
            "min_height": null,
            "min_width": null,
            "object_fit": null,
            "object_position": null,
            "order": null,
            "overflow": null,
            "overflow_x": null,
            "overflow_y": null,
            "padding": null,
            "right": null,
            "top": null,
            "visibility": null,
            "width": null
          }
        },
        "d55ff37706fa4c33843ee19a13dedbf6": {
          "model_module": "@jupyter-widgets/controls",
          "model_name": "DescriptionStyleModel",
          "model_module_version": "1.5.0",
          "state": {
            "_model_module": "@jupyter-widgets/controls",
            "_model_module_version": "1.5.0",
            "_model_name": "DescriptionStyleModel",
            "_view_count": null,
            "_view_module": "@jupyter-widgets/base",
            "_view_module_version": "1.2.0",
            "_view_name": "StyleView",
            "description_width": ""
          }
        },
        "9b705a49de7b4837a25d5142598595dd": {
          "model_module": "@jupyter-widgets/base",
          "model_name": "LayoutModel",
          "model_module_version": "1.2.0",
          "state": {
            "_model_module": "@jupyter-widgets/base",
            "_model_module_version": "1.2.0",
            "_model_name": "LayoutModel",
            "_view_count": null,
            "_view_module": "@jupyter-widgets/base",
            "_view_module_version": "1.2.0",
            "_view_name": "LayoutView",
            "align_content": null,
            "align_items": null,
            "align_self": null,
            "border": null,
            "bottom": null,
            "display": null,
            "flex": null,
            "flex_flow": null,
            "grid_area": null,
            "grid_auto_columns": null,
            "grid_auto_flow": null,
            "grid_auto_rows": null,
            "grid_column": null,
            "grid_gap": null,
            "grid_row": null,
            "grid_template_areas": null,
            "grid_template_columns": null,
            "grid_template_rows": null,
            "height": null,
            "justify_content": null,
            "justify_items": null,
            "left": null,
            "margin": null,
            "max_height": null,
            "max_width": null,
            "min_height": null,
            "min_width": null,
            "object_fit": null,
            "object_position": null,
            "order": null,
            "overflow": null,
            "overflow_x": null,
            "overflow_y": null,
            "padding": null,
            "right": null,
            "top": null,
            "visibility": null,
            "width": null
          }
        },
        "741bb79bf5384438af5202d3db8c1233": {
          "model_module": "@jupyter-widgets/controls",
          "model_name": "ProgressStyleModel",
          "model_module_version": "1.5.0",
          "state": {
            "_model_module": "@jupyter-widgets/controls",
            "_model_module_version": "1.5.0",
            "_model_name": "ProgressStyleModel",
            "_view_count": null,
            "_view_module": "@jupyter-widgets/base",
            "_view_module_version": "1.2.0",
            "_view_name": "StyleView",
            "bar_color": null,
            "description_width": ""
          }
        },
        "7c18186770f14e7090fba7bff648fdb4": {
          "model_module": "@jupyter-widgets/base",
          "model_name": "LayoutModel",
          "model_module_version": "1.2.0",
          "state": {
            "_model_module": "@jupyter-widgets/base",
            "_model_module_version": "1.2.0",
            "_model_name": "LayoutModel",
            "_view_count": null,
            "_view_module": "@jupyter-widgets/base",
            "_view_module_version": "1.2.0",
            "_view_name": "LayoutView",
            "align_content": null,
            "align_items": null,
            "align_self": null,
            "border": null,
            "bottom": null,
            "display": null,
            "flex": null,
            "flex_flow": null,
            "grid_area": null,
            "grid_auto_columns": null,
            "grid_auto_flow": null,
            "grid_auto_rows": null,
            "grid_column": null,
            "grid_gap": null,
            "grid_row": null,
            "grid_template_areas": null,
            "grid_template_columns": null,
            "grid_template_rows": null,
            "height": null,
            "justify_content": null,
            "justify_items": null,
            "left": null,
            "margin": null,
            "max_height": null,
            "max_width": null,
            "min_height": null,
            "min_width": null,
            "object_fit": null,
            "object_position": null,
            "order": null,
            "overflow": null,
            "overflow_x": null,
            "overflow_y": null,
            "padding": null,
            "right": null,
            "top": null,
            "visibility": null,
            "width": null
          }
        },
        "6a755e39756340e8aaeb804c2121da27": {
          "model_module": "@jupyter-widgets/controls",
          "model_name": "DescriptionStyleModel",
          "model_module_version": "1.5.0",
          "state": {
            "_model_module": "@jupyter-widgets/controls",
            "_model_module_version": "1.5.0",
            "_model_name": "DescriptionStyleModel",
            "_view_count": null,
            "_view_module": "@jupyter-widgets/base",
            "_view_module_version": "1.2.0",
            "_view_name": "StyleView",
            "description_width": ""
          }
        }
      }
    }
  },
  "cells": [
    {
      "cell_type": "markdown",
      "source": [
        "# Trickng ResNet18 Image Classifier Using LLM Suggested Image Perturbations"
      ],
      "metadata": {
        "id": "ZSxEHJXKt73P"
      }
    },
    {
      "cell_type": "code",
      "execution_count": 41,
      "metadata": {
        "colab": {
          "base_uri": "https://localhost:8080/"
        },
        "id": "QWCVNMHLJrmB",
        "outputId": "7b9c5125-d185-4b53-ef8a-0009c0a059e5"
      },
      "outputs": [
        {
          "output_type": "stream",
          "name": "stdout",
          "text": [
            "NVIDIA A100-SXM4-40GB\n"
          ]
        }
      ],
      "source": [
        "# Check GPU\n",
        "!nvidia-smi --query-gpu=name --format=csv,noheader"
      ]
    },
    {
      "cell_type": "code",
      "source": [
        "# pip install missing packages from main implementation\n",
        "!pip install -U bitsandbytes\n",
        "!pip install -q transformers accelerate bitsandbytes torch\n",
        "!pip install ftfy regex tqdm\n",
        "!pip install git+https://github.com/openai/CLIP.git"
      ],
      "metadata": {
        "colab": {
          "base_uri": "https://localhost:8080/"
        },
        "id": "dedAlOBJMggL",
        "outputId": "2407a08d-cd8b-4b9c-e05a-4ea438cbff1c"
      },
      "execution_count": 42,
      "outputs": [
        {
          "output_type": "stream",
          "name": "stdout",
          "text": [
            "Requirement already satisfied: bitsandbytes in /usr/local/lib/python3.11/dist-packages (0.45.5)\n",
            "Requirement already satisfied: torch<3,>=2.0 in /usr/local/lib/python3.11/dist-packages (from bitsandbytes) (2.6.0+cu124)\n",
            "Requirement already satisfied: numpy>=1.17 in /usr/local/lib/python3.11/dist-packages (from bitsandbytes) (2.0.2)\n",
            "Requirement already satisfied: filelock in /usr/local/lib/python3.11/dist-packages (from torch<3,>=2.0->bitsandbytes) (3.18.0)\n",
            "Requirement already satisfied: typing-extensions>=4.10.0 in /usr/local/lib/python3.11/dist-packages (from torch<3,>=2.0->bitsandbytes) (4.13.2)\n",
            "Requirement already satisfied: networkx in /usr/local/lib/python3.11/dist-packages (from torch<3,>=2.0->bitsandbytes) (3.4.2)\n",
            "Requirement already satisfied: jinja2 in /usr/local/lib/python3.11/dist-packages (from torch<3,>=2.0->bitsandbytes) (3.1.6)\n",
            "Requirement already satisfied: fsspec in /usr/local/lib/python3.11/dist-packages (from torch<3,>=2.0->bitsandbytes) (2025.3.2)\n",
            "Requirement already satisfied: nvidia-cuda-nvrtc-cu12==12.4.127 in /usr/local/lib/python3.11/dist-packages (from torch<3,>=2.0->bitsandbytes) (12.4.127)\n",
            "Requirement already satisfied: nvidia-cuda-runtime-cu12==12.4.127 in /usr/local/lib/python3.11/dist-packages (from torch<3,>=2.0->bitsandbytes) (12.4.127)\n",
            "Requirement already satisfied: nvidia-cuda-cupti-cu12==12.4.127 in /usr/local/lib/python3.11/dist-packages (from torch<3,>=2.0->bitsandbytes) (12.4.127)\n",
            "Requirement already satisfied: nvidia-cudnn-cu12==9.1.0.70 in /usr/local/lib/python3.11/dist-packages (from torch<3,>=2.0->bitsandbytes) (9.1.0.70)\n",
            "Requirement already satisfied: nvidia-cublas-cu12==12.4.5.8 in /usr/local/lib/python3.11/dist-packages (from torch<3,>=2.0->bitsandbytes) (12.4.5.8)\n",
            "Requirement already satisfied: nvidia-cufft-cu12==11.2.1.3 in /usr/local/lib/python3.11/dist-packages (from torch<3,>=2.0->bitsandbytes) (11.2.1.3)\n",
            "Requirement already satisfied: nvidia-curand-cu12==10.3.5.147 in /usr/local/lib/python3.11/dist-packages (from torch<3,>=2.0->bitsandbytes) (10.3.5.147)\n",
            "Requirement already satisfied: nvidia-cusolver-cu12==11.6.1.9 in /usr/local/lib/python3.11/dist-packages (from torch<3,>=2.0->bitsandbytes) (11.6.1.9)\n",
            "Requirement already satisfied: nvidia-cusparse-cu12==12.3.1.170 in /usr/local/lib/python3.11/dist-packages (from torch<3,>=2.0->bitsandbytes) (12.3.1.170)\n",
            "Requirement already satisfied: nvidia-cusparselt-cu12==0.6.2 in /usr/local/lib/python3.11/dist-packages (from torch<3,>=2.0->bitsandbytes) (0.6.2)\n",
            "Requirement already satisfied: nvidia-nccl-cu12==2.21.5 in /usr/local/lib/python3.11/dist-packages (from torch<3,>=2.0->bitsandbytes) (2.21.5)\n",
            "Requirement already satisfied: nvidia-nvtx-cu12==12.4.127 in /usr/local/lib/python3.11/dist-packages (from torch<3,>=2.0->bitsandbytes) (12.4.127)\n",
            "Requirement already satisfied: nvidia-nvjitlink-cu12==12.4.127 in /usr/local/lib/python3.11/dist-packages (from torch<3,>=2.0->bitsandbytes) (12.4.127)\n",
            "Requirement already satisfied: triton==3.2.0 in /usr/local/lib/python3.11/dist-packages (from torch<3,>=2.0->bitsandbytes) (3.2.0)\n",
            "Requirement already satisfied: sympy==1.13.1 in /usr/local/lib/python3.11/dist-packages (from torch<3,>=2.0->bitsandbytes) (1.13.1)\n",
            "Requirement already satisfied: mpmath<1.4,>=1.1.0 in /usr/local/lib/python3.11/dist-packages (from sympy==1.13.1->torch<3,>=2.0->bitsandbytes) (1.3.0)\n",
            "Requirement already satisfied: MarkupSafe>=2.0 in /usr/local/lib/python3.11/dist-packages (from jinja2->torch<3,>=2.0->bitsandbytes) (3.0.2)\n",
            "Requirement already satisfied: ftfy in /usr/local/lib/python3.11/dist-packages (6.3.1)\n",
            "Requirement already satisfied: regex in /usr/local/lib/python3.11/dist-packages (2024.11.6)\n",
            "Requirement already satisfied: tqdm in /usr/local/lib/python3.11/dist-packages (4.67.1)\n",
            "Requirement already satisfied: wcwidth in /usr/local/lib/python3.11/dist-packages (from ftfy) (0.2.13)\n",
            "Collecting git+https://github.com/openai/CLIP.git\n",
            "  Cloning https://github.com/openai/CLIP.git to /tmp/pip-req-build-jcu4gsz6\n",
            "  Running command git clone --filter=blob:none --quiet https://github.com/openai/CLIP.git /tmp/pip-req-build-jcu4gsz6\n",
            "  Resolved https://github.com/openai/CLIP.git to commit dcba3cb2e2827b402d2701e7e1c7d9fed8a20ef1\n",
            "  Preparing metadata (setup.py) ... \u001b[?25l\u001b[?25hdone\n",
            "Requirement already satisfied: ftfy in /usr/local/lib/python3.11/dist-packages (from clip==1.0) (6.3.1)\n",
            "Requirement already satisfied: packaging in /usr/local/lib/python3.11/dist-packages (from clip==1.0) (24.2)\n",
            "Requirement already satisfied: regex in /usr/local/lib/python3.11/dist-packages (from clip==1.0) (2024.11.6)\n",
            "Requirement already satisfied: tqdm in /usr/local/lib/python3.11/dist-packages (from clip==1.0) (4.67.1)\n",
            "Requirement already satisfied: torch in /usr/local/lib/python3.11/dist-packages (from clip==1.0) (2.6.0+cu124)\n",
            "Requirement already satisfied: torchvision in /usr/local/lib/python3.11/dist-packages (from clip==1.0) (0.21.0+cu124)\n",
            "Requirement already satisfied: wcwidth in /usr/local/lib/python3.11/dist-packages (from ftfy->clip==1.0) (0.2.13)\n",
            "Requirement already satisfied: filelock in /usr/local/lib/python3.11/dist-packages (from torch->clip==1.0) (3.18.0)\n",
            "Requirement already satisfied: typing-extensions>=4.10.0 in /usr/local/lib/python3.11/dist-packages (from torch->clip==1.0) (4.13.2)\n",
            "Requirement already satisfied: networkx in /usr/local/lib/python3.11/dist-packages (from torch->clip==1.0) (3.4.2)\n",
            "Requirement already satisfied: jinja2 in /usr/local/lib/python3.11/dist-packages (from torch->clip==1.0) (3.1.6)\n",
            "Requirement already satisfied: fsspec in /usr/local/lib/python3.11/dist-packages (from torch->clip==1.0) (2025.3.2)\n",
            "Requirement already satisfied: nvidia-cuda-nvrtc-cu12==12.4.127 in /usr/local/lib/python3.11/dist-packages (from torch->clip==1.0) (12.4.127)\n",
            "Requirement already satisfied: nvidia-cuda-runtime-cu12==12.4.127 in /usr/local/lib/python3.11/dist-packages (from torch->clip==1.0) (12.4.127)\n",
            "Requirement already satisfied: nvidia-cuda-cupti-cu12==12.4.127 in /usr/local/lib/python3.11/dist-packages (from torch->clip==1.0) (12.4.127)\n",
            "Requirement already satisfied: nvidia-cudnn-cu12==9.1.0.70 in /usr/local/lib/python3.11/dist-packages (from torch->clip==1.0) (9.1.0.70)\n",
            "Requirement already satisfied: nvidia-cublas-cu12==12.4.5.8 in /usr/local/lib/python3.11/dist-packages (from torch->clip==1.0) (12.4.5.8)\n",
            "Requirement already satisfied: nvidia-cufft-cu12==11.2.1.3 in /usr/local/lib/python3.11/dist-packages (from torch->clip==1.0) (11.2.1.3)\n",
            "Requirement already satisfied: nvidia-curand-cu12==10.3.5.147 in /usr/local/lib/python3.11/dist-packages (from torch->clip==1.0) (10.3.5.147)\n",
            "Requirement already satisfied: nvidia-cusolver-cu12==11.6.1.9 in /usr/local/lib/python3.11/dist-packages (from torch->clip==1.0) (11.6.1.9)\n",
            "Requirement already satisfied: nvidia-cusparse-cu12==12.3.1.170 in /usr/local/lib/python3.11/dist-packages (from torch->clip==1.0) (12.3.1.170)\n",
            "Requirement already satisfied: nvidia-cusparselt-cu12==0.6.2 in /usr/local/lib/python3.11/dist-packages (from torch->clip==1.0) (0.6.2)\n",
            "Requirement already satisfied: nvidia-nccl-cu12==2.21.5 in /usr/local/lib/python3.11/dist-packages (from torch->clip==1.0) (2.21.5)\n",
            "Requirement already satisfied: nvidia-nvtx-cu12==12.4.127 in /usr/local/lib/python3.11/dist-packages (from torch->clip==1.0) (12.4.127)\n",
            "Requirement already satisfied: nvidia-nvjitlink-cu12==12.4.127 in /usr/local/lib/python3.11/dist-packages (from torch->clip==1.0) (12.4.127)\n",
            "Requirement already satisfied: triton==3.2.0 in /usr/local/lib/python3.11/dist-packages (from torch->clip==1.0) (3.2.0)\n",
            "Requirement already satisfied: sympy==1.13.1 in /usr/local/lib/python3.11/dist-packages (from torch->clip==1.0) (1.13.1)\n",
            "Requirement already satisfied: mpmath<1.4,>=1.1.0 in /usr/local/lib/python3.11/dist-packages (from sympy==1.13.1->torch->clip==1.0) (1.3.0)\n",
            "Requirement already satisfied: numpy in /usr/local/lib/python3.11/dist-packages (from torchvision->clip==1.0) (2.0.2)\n",
            "Requirement already satisfied: pillow!=8.3.*,>=5.3.0 in /usr/local/lib/python3.11/dist-packages (from torchvision->clip==1.0) (11.2.1)\n",
            "Requirement already satisfied: MarkupSafe>=2.0 in /usr/local/lib/python3.11/dist-packages (from jinja2->torch->clip==1.0) (3.0.2)\n"
          ]
        }
      ]
    },
    {
      "cell_type": "code",
      "source": [
        "import re\n",
        "import urllib\n",
        "from google.colab import userdata\n",
        "from transformers import AutoModelForCausalLM, AutoTokenizer, BitsAndBytesConfig\n",
        "import torch\n",
        "import json\n",
        "import numpy as np\n",
        "from PIL import Image, ImageEnhance\n",
        "import cv2\n",
        "import matplotlib.pyplot as plt\n",
        "from torchvision import transforms, datasets\n",
        "import clip\n"
      ],
      "metadata": {
        "id": "NZw6LALN1K0p"
      },
      "execution_count": 43,
      "outputs": []
    },
    {
      "cell_type": "code",
      "source": [
        "device = \"cuda\" if torch.cuda.is_available() else \"cpu\"\n",
        "print(device)"
      ],
      "metadata": {
        "colab": {
          "base_uri": "https://localhost:8080/"
        },
        "id": "hEaGvvpWxIp6",
        "outputId": "1d47812e-995b-4ead-90fc-57753de18ab2"
      },
      "execution_count": 44,
      "outputs": [
        {
          "output_type": "stream",
          "name": "stdout",
          "text": [
            "cuda\n"
          ]
        }
      ]
    },
    {
      "cell_type": "code",
      "source": [
        "# Test images\n",
        "# url, filename = (\"https://github.com/pytorch/hub/raw/master/images/dog.jpg\", \"dog.jpg\")\n",
        "# try: urllib.URLopener().retrieve(url, filename)\n",
        "# except: urllib.request.urlretrieve(url, filename)\n",
        "# img = Image.open(filename)"
      ],
      "metadata": {
        "id": "7197SUYYkuXM"
      },
      "execution_count": 45,
      "outputs": []
    },
    {
      "cell_type": "code",
      "source": [
        "# Authenticate with token\n",
        "# Retrieves token: Assumes that everyone needs their own hugging face account and add token to colab env\n",
        "hf_token = userdata.get('HF_TOKEN')\n",
        "\n",
        "# Load model with authentication\n",
        "model_id = \"meta-llama/Meta-Llama-3-8B-Instruct\"\n",
        "tokenizer = AutoTokenizer.from_pretrained(model_id, token=hf_token)\n",
        "llm_model = AutoModelForCausalLM.from_pretrained(\n",
        "    model_id,\n",
        "    token=hf_token,\n",
        "    quantization_config=BitsAndBytesConfig(\n",
        "        load_in_4bit=True,\n",
        "        bnb_4bit_compute_dtype=torch.float16\n",
        "    ),\n",
        "    device_map=\"auto\"\n",
        ")"
      ],
      "metadata": {
        "colab": {
          "base_uri": "https://localhost:8080/",
          "height": 49,
          "referenced_widgets": [
            "390fde4a2c814e80965f611695b82eb9",
            "1c8965e68020461eb25b33d24f2d2ed0",
            "4061dd942fb5430e96c5dc0aad2cd060",
            "18d7e9e868e24b1aa57f935c56976d4d",
            "4550a51334a840f3a2c6bdbab7e4d021",
            "4cb8fdbe96b14a069004fb8bdde5ea44",
            "d55ff37706fa4c33843ee19a13dedbf6",
            "9b705a49de7b4837a25d5142598595dd",
            "741bb79bf5384438af5202d3db8c1233",
            "7c18186770f14e7090fba7bff648fdb4",
            "6a755e39756340e8aaeb804c2121da27"
          ]
        },
        "id": "8VEOUDsLMz5U",
        "outputId": "4f3487d7-7386-4319-8090-6f3cde51e5a7"
      },
      "execution_count": 46,
      "outputs": [
        {
          "output_type": "display_data",
          "data": {
            "text/plain": [
              "Loading checkpoint shards:   0%|          | 0/4 [00:00<?, ?it/s]"
            ],
            "application/vnd.jupyter.widget-view+json": {
              "version_major": 2,
              "version_minor": 0,
              "model_id": "390fde4a2c814e80965f611695b82eb9"
            }
          },
          "metadata": {}
        }
      ]
    },
    {
      "cell_type": "code",
      "source": [
        "#Test that the model and image loading worked\n",
        "def generate_response(prompt, max_new_tokens=50):\n",
        "    inputs = tokenizer(prompt, return_tensors=\"pt\").to(device)\n",
        "    outputs = llm_model.generate(**inputs, max_new_tokens=max_new_tokens)\n",
        "    return tokenizer.decode(outputs[0], skip_special_tokens=True)\n"
      ],
      "metadata": {
        "id": "DgVVyicmGrQX"
      },
      "execution_count": 47,
      "outputs": []
    },
    {
      "cell_type": "markdown",
      "source": [
        "PROMPTING"
      ],
      "metadata": {
        "id": "Jnbvbemi1sz8"
      }
    },
    {
      "cell_type": "code",
      "source": [
        "# perturbations_prompt = \"Give locations, size, and type of perturbations to be done to an image. The image size is 1920 by 1080 and the maximum perturbation size is 100 by 100. Give a list of 10 perturbations which specify pixel location, size of the perturbation patch, channel an integer between 0 and 3, and type of perturbation. Respond only in JSON format with no explainations.\"\n",
        "\n",
        "# perturbation_examples = \"\"\"  {\"location\": [20, 30], \"size\": [10, 10], \"channel\": 0, \"type\": \"gaussian_noise\"},\n",
        "#   {\"location\": [50, 60], \"size\": [8, 8], \"channel\": 0, \"type\": \"blur\"},\n",
        "#   {\"location\": [70, 20], \"size\": [6, 6], \"channel\": 1, \"type\": \"occlusion\"},\n",
        "#   {\"location\": [10, 10], \"size\": [9, 9], \"channel\": 2, \"type\": \"brightness_increase\"},\n",
        "#   {\"location\": [80, 40], \"size\": [7, 7], \"channel\": 0, \"type\": \"contrast_decrease\"},\n",
        "#   {\"location\": [30, 70], \"size\": [10, 10], \"channel\": 1, \"type\": \"salt_and_pepper_noise\"},\n",
        "#   {\"location\": [60, 15], \"size\": [5, 5], \"channel\": 2, \"type\": \"motion_blur\"},\n",
        "#   {\"location\": [25, 85], \"size\": [6, 6], \"channel\": 1, \"type\": \"color_shift\"},\n",
        "#   {\"location\": [90, 90], \"size\": [10, 10], \"channel\": 2, \"type\": \"sharpen\"},\n",
        "#   {\"location\": [40, 50], \"size\": [7, 7], \"channel\": 0, \"type\": \"grayscale\"}\n",
        "#   \"\"\"\n",
        "\n",
        "# ranks = [0.9,1,0.2,0.3,0.1,0.5,0,0.2,0.2,0.8]\n",
        "\n"
      ],
      "metadata": {
        "id": "XxcYBxiShWLm"
      },
      "execution_count": 48,
      "outputs": []
    },
    {
      "cell_type": "code",
      "source": [
        "perturbations_prompt = \"Give types of perturbations to be done to an image. The image size is 256 by 256.\\\n",
        "Give a list of up to 10 perturbations where operations are one of these: [rotate, adjust_brightness, blur_patch, add_stripe_noise, add_patch, translate].\\\n",
        "Rotate requires an angle parameter.\\\n",
        "adjust_brightness requires a factor parameter.\\\n",
        "blur_patch requires center, radius, and sigma parameters.\\\n",
        "add_stripe_noise requires orientation, stripe_width, intensity, and location.\\\n",
        "add_patch requires location, size, and type parameters with an option color parameter.\\\n",
        "translate requires x_shift and y_shift parameters.\\\n",
        "Respond only in JSON format with no explainations.\"\n",
        "\n",
        "perturbation_examples = \"\"\"\n",
        "    [{\n",
        "            \"operation\": \"rotate\",\n",
        "            \"angle\": 15\n",
        "    },\n",
        "    {\n",
        "            \"operation\": \"adjust_brightness\",\n",
        "            \"factor\": 1.5\n",
        "    },\n",
        "    {\n",
        "            \"operation\": \"blur_patch\",\n",
        "            \"center\": [80, 60],\n",
        "            \"radius\": 20,\n",
        "            \"sigma\": 5.0\n",
        "    },\n",
        "    {\n",
        "            \"operation\": \"add_stripe_noise\",\n",
        "            \"orientation\": \"horizontal\",\n",
        "            \"stripe_width\": 10,\n",
        "            \"intensity\": 0.1,\n",
        "            \"location\": 0.3\n",
        "    },\n",
        "    {\n",
        "            \"operation\": \"add_patch\",\n",
        "            \"location\": [50, 50],\n",
        "            \"size\": [40, 40],\n",
        "            \"type\": \"noise\"\n",
        "    },\n",
        "    {\n",
        "            \"operation\": \"add_patch\",\n",
        "            \"location\": [120, 120],\n",
        "            \"size\": [30, 30],\n",
        "            \"type\": \"color\",\n",
        "            \"color\": [255, 0, 0]\n",
        "    },\n",
        "    {\n",
        "            \"operation\": \"translate\",\n",
        "            \"x_shift\": 20,\n",
        "            \"y_shift\": 30\n",
        "    }]\"\"\""
      ],
      "metadata": {
        "id": "MVNe8F58cbIM"
      },
      "execution_count": 49,
      "outputs": []
    },
    {
      "cell_type": "code",
      "source": [
        "# original prompt is below:\n",
        "# f\"Give types of perturbations to be done to an image. The image size is {size[0]} by {size[1]}.\\\n",
        "# Give a list of up to 10 perturbations where operations are one of these: [rotate, adjust_brightness, blur_patch, add_stripe_noise, add_patch, translate].\\\n",
        "# Rotate requires an angle parameter.\\\n",
        "# adjust_brightness requires a factor parameter.\\\n",
        "# blur_patch requires center, radius, and sigma parameters.\\\n",
        "# add_stripe_noise requires orientation, stripe_width, intensity, and location.\\\n",
        "# add_patch requires location, size, and type parameters with an option color parameter.\\\n",
        "# translate requires x_shift and y_shift parameters.\\\n",
        "# Respond only in JSON format with no explainations.\""
      ],
      "metadata": {
        "id": "0GRoonFfj8tN"
      },
      "execution_count": 50,
      "outputs": []
    },
    {
      "cell_type": "code",
      "source": [
        "def generate_new_perturbations_prompt(prev_pert = perturbation_examples, ranks = [], size = [224,224]):\n",
        "  init_prompt = f\"Give a list of up to 10 image perturbations that can trick ResNet's image classifier into misclassifying the perturbed image while keeping the perturbed image as close to the original one as possible. Strictly follow these guidelines:\"\n",
        "  base_prompt = f\"\\\n",
        "Operations are exclusively one of these: [rotate, adjust_brightness, blur_patch, add_stripe_noise, add_patch, translate].\\\n",
        "The image size is {size[0]} by {size[1]}.\\\n",
        "Rotate requires an angle parameter.\\\n",
        "adjust_brightness requires a factor parameter.\\\n",
        "blur_patch requires center, radius, and sigma parameters.\\\n",
        "add_stripe_noise requires orientation, stripe_width, intensity, and location.\\\n",
        "add_patch requires location, size, and type parameters with an option color parameter.\\\n",
        "translate requires x_shift and y_shift parameters.\\\n",
        "Strictly respond only in JSON format with no explanations.\"\n",
        "\n",
        "  perturbations_prompt = f\"{init_prompt}{base_prompt}\"\n",
        "  if ranks == []:\n",
        "    prompt = init_prompt + \"\\Examples: \" + prev_pert + \"Generate new perturbations strictly based on these rules:\" + base_prompt\n",
        "  else:\n",
        "    prompt = \"Previous perturbations were: \" + prev_pert + \" and had a loss of: \" + str(ranks) + \".\\nStricly follow these rules to give a list of up to 10 perturbations to increase that loss value:\\n\" + base_prompt\n",
        "  return prompt"
      ],
      "metadata": {
        "id": "qRWRV35MmsiH"
      },
      "execution_count": 73,
      "outputs": []
    },
    {
      "cell_type": "code",
      "source": [
        "# test = generate_new_perturbations_prompt()\n",
        "# print(test)"
      ],
      "metadata": {
        "id": "6H1PylBoqawr"
      },
      "execution_count": 52,
      "outputs": []
    },
    {
      "cell_type": "code",
      "source": [
        "## Select only the json list from the response\n",
        "def extract_text_between_brackets(text):\n",
        "  text = text.split(\"Strictly respond only in JSON format with no explanations.\")[1] # Ignore example json list\n",
        "  text = text.replace(' ', '')\n",
        "  text = text.replace('\\n', '')\n",
        "  text = text.replace('\\\\','')\n",
        "  if len(re.findall(r\"\\[\\{(.*?)\\}\\]\", text, re.DOTALL)) == 0: # If no full JSON exists return empty list\n",
        "    return \"[]\"\n",
        "  return \"[{\"+re.findall(r\"\\[\\{(.*?)\\}\\]\", text, re.DOTALL)[0]+\"}]\""
      ],
      "metadata": {
        "id": "zMfWJmZVtvrK"
      },
      "execution_count": 74,
      "outputs": []
    },
    {
      "cell_type": "code",
      "source": [
        "# response = generate_response(test, 400)\n",
        "# print(extract_text_between_brackets(response))\n",
        "# commands = json.loads(extract_text_between_brackets(response))"
      ],
      "metadata": {
        "id": "3WIN0m5duWxx"
      },
      "execution_count": 54,
      "outputs": []
    },
    {
      "cell_type": "markdown",
      "source": [
        "PERTURBATOR"
      ],
      "metadata": {
        "id": "zLuNRYZ4jwWZ"
      }
    },
    {
      "cell_type": "code",
      "source": [
        "def rotate_image(image, angle):\n",
        "    return image.rotate(angle)\n",
        "\n",
        "def adjust_brightness(image, factor):\n",
        "    enhancer = ImageEnhance.Brightness(image)\n",
        "    return enhancer.enhance(factor)\n",
        "\n",
        "def blur_patch(image, center, radius, sigma):\n",
        "    img_np = np.array(image)\n",
        "    (h, w, _) = img_np.shape\n",
        "    mask = np.zeros((h, w), dtype=np.uint8)\n",
        "\n",
        "    cv2.circle(mask, tuple(center), radius, 255, -1)\n",
        "\n",
        "    blurred = cv2.GaussianBlur(img_np, (0, 0), sigma)\n",
        "\n",
        "    mask = mask[:, :, np.newaxis] / 255.0\n",
        "    output = img_np * (1 - mask) + blurred * mask\n",
        "    output = np.clip(output, 0, 255).astype(np.uint8)\n",
        "\n",
        "    return Image.fromarray(output)\n",
        "\n",
        "def add_stripe_noise(image, orientation, stripe_width, intensity, location=0):\n",
        "    img_np = np.array(image).astype(np.float32) / 255.0\n",
        "    noise = np.random.uniform(-intensity, intensity, img_np.shape)\n",
        "\n",
        "    mask = np.zeros_like(img_np)\n",
        "    H, W, _ = img_np.shape\n",
        "\n",
        "    if orientation == \"horizontal\":\n",
        "        # Horizontal stripe centered at given y-location\n",
        "        y_center = int(location * H)\n",
        "        y_start = max(0, y_center - stripe_width // 2)\n",
        "        y_end = min(H, y_center + stripe_width // 2)\n",
        "        mask[y_start:y_end, :, :] = 1\n",
        "    elif orientation == \"vertical\":\n",
        "        # Vertical stripe centered at given x-location\n",
        "        x_center = int(location * W)\n",
        "        x_start = max(0, x_center - stripe_width // 2)\n",
        "        x_end = min(W, x_center + stripe_width // 2)\n",
        "        mask[:, x_start:x_end, :] = 1\n",
        "\n",
        "    noisy_img = np.clip(img_np + noise * mask, 0, 1)\n",
        "    noisy_img = (noisy_img * 255).astype(np.uint8)\n",
        "    return Image.fromarray(noisy_img)\n",
        "\n",
        "def add_patch(image, location, size, type_=\"noise\", color=None):\n",
        "    img_np = np.array(image)\n",
        "\n",
        "    patch = None\n",
        "    if type_ == \"noise\":\n",
        "        patch = np.random.randint(0, 256, (size[1], size[0], 3), dtype=np.uint8)\n",
        "    elif type_ == \"color\" and color is not None:\n",
        "        patch = np.ones((size[1], size[0], 3), dtype=np.uint8) * np.array(color, dtype=np.uint8)\n",
        "\n",
        "    x, y = location  # Now input is exact (x, y)\n",
        "\n",
        "    # Boundary check\n",
        "    H, W, _ = img_np.shape\n",
        "    x = max(0, min(x, W - size[0]))\n",
        "    y = max(0, min(y, H - size[1]))\n",
        "\n",
        "    img_np[y:y+size[1], x:x+size[0]] = patch\n",
        "\n",
        "    return Image.fromarray(img_np)\n",
        "\n",
        "def translate_image(image, x_shift, y_shift):\n",
        "    img_np = np.array(image)\n",
        "    (h, w) = img_np.shape[:2]\n",
        "\n",
        "    M = np.float32([[1, 0, x_shift], [0, 1, y_shift]])\n",
        "    shifted = cv2.warpAffine(img_np, M, (w, h), borderMode=cv2.BORDER_REFLECT)\n",
        "\n",
        "    return Image.fromarray(shifted)\n"
      ],
      "metadata": {
        "id": "coVWyHoUjyh8"
      },
      "execution_count": 55,
      "outputs": []
    },
    {
      "cell_type": "code",
      "source": [
        "def apply_action(image, action_dict):\n",
        "    operation = action_dict[\"operation\"]\n",
        "\n",
        "    if operation == \"rotate\":\n",
        "        return rotate_image(image, angle=action_dict[\"angle\"])\n",
        "    elif operation == \"adjust_brightness\":\n",
        "        return adjust_brightness(image, factor=action_dict[\"factor\"])\n",
        "    elif operation == \"blur_patch\":\n",
        "        return blur_patch(\n",
        "            image,\n",
        "            center=action_dict[\"center\"],\n",
        "            radius=action_dict[\"radius\"],\n",
        "            sigma=action_dict[\"sigma\"]\n",
        "        )\n",
        "    elif operation == \"add_stripe_noise\":\n",
        "        return add_stripe_noise(\n",
        "            image,\n",
        "            orientation=action_dict[\"orientation\"],\n",
        "            stripe_width=action_dict[\"stripe_width\"],\n",
        "            intensity=action_dict[\"intensity\"],\n",
        "            location=action_dict.get(\"location\", 0)\n",
        "        )\n",
        "    elif operation == \"add_patch\":\n",
        "        return add_patch(\n",
        "            image,\n",
        "            location=action_dict[\"location\"],\n",
        "            size=action_dict[\"size\"],\n",
        "            type_=action_dict.get(\"type\", \"noise\"),\n",
        "            color=action_dict.get(\"color\")\n",
        "        )\n",
        "    elif operation == \"translate\":\n",
        "        return translate_image(\n",
        "            image,\n",
        "            x_shift=action_dict[\"x_shift\"],\n",
        "            y_shift=action_dict[\"y_shift\"]\n",
        "        )\n",
        "    else:\n",
        "        raise ValueError(f\"Unknown operation: {operation}\")\n"
      ],
      "metadata": {
        "id": "pUqsJ-H-jyfH"
      },
      "execution_count": 56,
      "outputs": []
    },
    {
      "cell_type": "code",
      "source": [
        "def show_image(image, title=\"Image\"):\n",
        "    plt.imshow(np.array(image))\n",
        "    plt.title(title)\n",
        "    plt.axis('off')\n",
        "    plt.show()\n",
        "\n",
        "# for command in commands:\n",
        "#   perturbed_img = apply_action(img, command)\n",
        "#   show_image(perturbed_img, title=f\"Perturbation: {command['operation']}\")"
      ],
      "metadata": {
        "id": "ragD8kC1jyc_"
      },
      "execution_count": 57,
      "outputs": []
    },
    {
      "cell_type": "markdown",
      "source": [
        "RESNET"
      ],
      "metadata": {
        "id": "3lBQj-a_1q-S"
      }
    },
    {
      "cell_type": "code",
      "source": [
        "# resnet_model = torch.hub.load('pytorch/vision:v0.10.0', 'resnet18', pretrained=True)\n",
        "# # or any of these variants\n",
        "# # resnet_model = torch.hub.load('pytorch/vision:v0.10.0', 'resnet34', pretrained=True)\n",
        "# # resnet_model = torch.hub.load('pytorch/vision:v0.10.0', 'resnet50', pretrained=True)\n",
        "# # resnet_model = torch.hub.load('pytorch/vision:v0.10.0', 'resnet101', pretrained=True)\n",
        "# # resnet_model = torch.hub.load('pytorch/vision:v0.10.0', 'resnet152', pretrained=True)\n",
        "# resnet_model.eval()"
      ],
      "metadata": {
        "id": "pKYCuqVT1qhI"
      },
      "execution_count": 58,
      "outputs": []
    },
    {
      "cell_type": "code",
      "source": [
        "# Download ImageNet labels\n",
        "# !wget https://raw.githubusercontent.com/pytorch/hub/master/imagenet_classes.txt"
      ],
      "metadata": {
        "id": "l4WPE7jR1zxe"
      },
      "execution_count": 59,
      "outputs": []
    },
    {
      "cell_type": "code",
      "source": [
        "def classify_image(image, model=torch.load(\"resnet18_CIFAR10.pth\"),\n",
        "                   data=datasets.CIFAR10(root='.', train=False, download=True)):\n",
        "  # model should be preloaded fine-tuned model from earlier\n",
        "  # data is the CIFAR 10 test dataset\n",
        "  # image is the current image from the test set\n",
        "  # sample execution (requires torchvision)\n",
        "  # this could def be implemented a lot nicer\n",
        "  input_image = image\n",
        "\n",
        "  preprocess = transforms.Compose([\n",
        "      transforms.ToTensor(),\n",
        "      transforms.Resize(224),\n",
        "      transforms.Normalize(mean=[0.485, 0.456, 0.406],\n",
        "                           std=[0.229, 0.224, 0.225]),\n",
        "  ])\n",
        "  # Normalize input image\n",
        "  input_tensor = preprocess(input_image)\n",
        "\n",
        "  # create a mini-batch as expected by the model\n",
        "  input_batch = input_tensor.unsqueeze(0)\n",
        "  input_batch = input_batch.to(device)\n",
        "  print(device)\n",
        "\n",
        "  # Make prediction on label\n",
        "  with torch.no_grad():\n",
        "      output = model(input_batch)\n",
        "  # Tensor of shape 10, with confidence scores over CIFAR10's 10 classes\n",
        "  # print(output[0])\n",
        "  # The output has unnormalized scores. To get probabilities, you can run a softmax on it.\n",
        "  probabilities = torch.nn.functional.softmax(output[0], dim=0)\n",
        "  # print(probabilities)\n",
        "\n",
        "  # Read the categories\n",
        "  categories = data.classes\n",
        "\n",
        "  # Show top category per image\n",
        "  top5_prob, top5_catid = torch.topk(probabilities, 5)\n",
        "  # for i in range(top5_prob.size(0)):\n",
        "  #     print(categories[top5_catid[i]], top5_prob[i].item())\n",
        "\n",
        "  # Return top prediction\n",
        "  return categories[top5_catid[0]], top5_prob[0].item(), probabilities"
      ],
      "metadata": {
        "id": "_66lg5XT13wW"
      },
      "execution_count": 106,
      "outputs": []
    },
    {
      "cell_type": "code",
      "source": [
        "# img, label = test[14]\n",
        "# c, s, probabilities = classify_image(img, model=model, data=test)\n",
        "# c"
      ],
      "metadata": {
        "id": "rhdsRVIY21z5"
      },
      "execution_count": 61,
      "outputs": []
    },
    {
      "cell_type": "markdown",
      "source": [
        "CLIP SIMILARITY"
      ],
      "metadata": {
        "id": "VEhL7MfF-aE7"
      }
    },
    {
      "cell_type": "code",
      "source": [
        "# # Initialize clip comparison objects\n",
        "# clip_model, clip_preprocess = clip.load(\"ViT-B/32\", device=device)"
      ],
      "metadata": {
        "id": "tPRWVcXY-bXO"
      },
      "execution_count": 62,
      "outputs": []
    },
    {
      "cell_type": "code",
      "source": [
        "def image_distance(image1, image2, clip_model, clip_preprocess):\n",
        "  clip_model.to(device)\n",
        "  cos = torch.nn.CosineSimilarity(dim=0)\n",
        "\n",
        "  image1_preprocess = clip_preprocess(image1).unsqueeze(0).to(device)\n",
        "  image1_features = clip_model.encode_image( image1_preprocess)\n",
        "\n",
        "  image2_preprocess = clip_preprocess(image2).unsqueeze(0).to(device)\n",
        "  image2_features = clip_model.encode_image( image2_preprocess)\n",
        "\n",
        "  similarity = cos(image1_features[0],image2_features[0]).item()\n",
        "  return 1 - (similarity+1)/2\n",
        "\n",
        "\n",
        "def image_distance2(image1, image2):\n",
        "  if image1.shape != image2.shape:\n",
        "      raise ValueError(\"Images must have the same shape\")\n",
        "  return np.linalg.norm(image1.astype(float) - image2.astype(float))\n"
      ],
      "metadata": {
        "id": "YG_HS-HUALJS"
      },
      "execution_count": 63,
      "outputs": []
    },
    {
      "cell_type": "code",
      "source": [
        "# similarity_score = image_distance(img, perturbed_img, clip_model, clip_preprocess)\n",
        "# similarity_score"
      ],
      "metadata": {
        "id": "0kAcGkQr_6hj"
      },
      "execution_count": 64,
      "outputs": []
    },
    {
      "cell_type": "markdown",
      "source": [
        "LOSS"
      ],
      "metadata": {
        "id": "0NEbxmtvE1C4"
      }
    },
    {
      "cell_type": "code",
      "source": [
        "def loss_func(label, probabilities, similarity):\n",
        "  c = torch.tensor([0.5], device=device) # Hyperparameter\n",
        "  loss = torch.nn.CrossEntropyLoss()\n",
        "  loss = loss(label, probabilities)\n",
        "  return loss - similarity * c"
      ],
      "metadata": {
        "id": "b4tTsXmbE2Bl"
      },
      "execution_count": 65,
      "outputs": []
    },
    {
      "cell_type": "code",
      "source": [
        "# one_hot_encoding_of_label = torch.zeros(10, device=device)\n",
        "# one_hot_encoding_of_label[probabilities.argmax()] = 1\n",
        "# loss_func(one_hot_encoding_of_label, probabilities, similarity_score)"
      ],
      "metadata": {
        "id": "fgg7s_MIE19a"
      },
      "execution_count": 66,
      "outputs": []
    },
    {
      "cell_type": "markdown",
      "source": [
        "SUDO CODE FOR POSSIBLE EXECUTION CYCLE?"
      ],
      "metadata": {
        "id": "H3-IpBoF5b--"
      }
    },
    {
      "cell_type": "code",
      "source": [
        "# Preprocessing to get images that resnet classifies correctly\n",
        "\n",
        "# prompt = generate_new_perturbations_prompt() ##First Pass\n",
        "# for epochs\n",
        "#   for image, label in images: Should probably be in batch form...\n",
        "#     response = generate_response(prompt, 400) ##First Pass\n",
        "#     json_list = extract_text_between_brackets(response) ##Done\n",
        "#     new_image = perturbator(image, json_list) ##Done\n",
        "#     _, _, probabilities = classify_image(new_image, model=model, data=test) ##Done\n",
        "#     similarity_score = image_distance(image, new_image, clip_model, clip_preprocess) ##Done\n",
        "#     loss = loss_func(label, probabilities, similarity_score) ##Done\n",
        "#     prompt = generate_new_perturbations_prompt(json_list, loss) ##First Pass"
      ],
      "metadata": {
        "id": "nnT9kkli5Tlf"
      },
      "execution_count": 67,
      "outputs": []
    },
    {
      "cell_type": "markdown",
      "source": [
        "# Trick Pre-trained ResNet18 Image Classifier\n",
        "\n",
        "---\n",
        "\n"
      ],
      "metadata": {
        "id": "cSZ7kXNR0iuF"
      }
    },
    {
      "cell_type": "code",
      "source": [
        "# Load flowers dataset and ResNet model\n",
        "# Normalize current dataset to specifics of original ImageNet dataset to stabilize and speed up learning\n",
        "# Reseize images to match previous implementation\n",
        "# transform = transforms.Compose([\n",
        "#     transforms.ToTensor(),\n",
        "#     transforms.Resize((224,224)),\n",
        "#     transforms.Normalize(mean=[0.485, 0.456, 0.406],\n",
        "#                      std=[0.229, 0.224, 0.225])\n",
        "# ])\n",
        "\n",
        "# Load dataset\n",
        "# Only need test since we are running inferences\n",
        "test = datasets.CIFAR10(root='./data', train=False, download=True)\n",
        "\n",
        "# Randomly sample from test set for main dataset\n",
        "# We don't need the entire dataset to show we can tank model performance\n",
        "# test = torch.utils.data.Subset(test, np.random.choice(len(test), 5,\n",
        "#                                                       replace=False))\n",
        "\n",
        "# Load ResNet model\n",
        "# For scalability, we will only use the 18-layer version as its the smallest\n",
        "model = torch.hub.load('pytorch/vision:v0.10.0', 'resnet18', pretrained=True)\n",
        "# Replace the final fully connected layer to output 10 classes\n",
        "model.fc = torch.nn.Linear(model.fc.in_features, 10)\n",
        "\n",
        "# Load pretrained state dictionary to model\n",
        "model.load_state_dict(torch.load('/content/resnet18_CIFAR10.pth'))\n",
        "\n",
        "# Map model to GPU\n",
        "model = model.to(device)\n",
        "\n",
        "# Initialize clip comparison objects\n",
        "clip_model, clip_preprocess = clip.load(\"ViT-B/32\", device=device)"
      ],
      "metadata": {
        "id": "qEIuKYiw0oRD",
        "colab": {
          "base_uri": "https://localhost:8080/"
        },
        "outputId": "1fe6571a-51aa-4826-85b8-8494ec16a453"
      },
      "execution_count": 87,
      "outputs": [
        {
          "output_type": "stream",
          "name": "stderr",
          "text": [
            "Using cache found in /root/.cache/torch/hub/pytorch_vision_v0.10.0\n",
            "/usr/local/lib/python3.11/dist-packages/torchvision/models/_utils.py:208: UserWarning: The parameter 'pretrained' is deprecated since 0.13 and may be removed in the future, please use 'weights' instead.\n",
            "  warnings.warn(\n",
            "/usr/local/lib/python3.11/dist-packages/torchvision/models/_utils.py:223: UserWarning: Arguments other than a weight enum or `None` for 'weights' are deprecated since 0.13 and may be removed in the future. The current behavior is equivalent to passing `weights=ResNet18_Weights.IMAGENET1K_V1`. You can also use `weights=ResNet18_Weights.DEFAULT` to get the most up-to-date weights.\n",
            "  warnings.warn(msg)\n"
          ]
        }
      ]
    },
    {
      "cell_type": "code",
      "source": [
        "valid_operations = ['rotate', 'adjust_brightness', 'blur_patch',\n",
        "                    'add_stripe_noise', 'add_patch', 'translate']\n",
        "epochs = 1\n",
        "# Set size to 224 to match dataset transformation and ResNet expectations\n",
        "# pass size as list to match prompt implementation\n",
        "prompt = generate_new_perturbations_prompt(size=[224,224])\n",
        "\n",
        "# Set model to evaluation mode for inferences\n",
        "model.eval()\n",
        "\n",
        "# Make counter variables for accuracy calculation later\n",
        "correct = 0\n",
        "current_img = 0\n",
        "\n",
        "misclassified_images = []\n",
        "misclassified_true_images = []\n",
        "perturbations = []\n",
        "\n",
        "for i in range(epochs):\n",
        "  print(f\"STARTING EPOCH: {i}\")\n",
        "  for image, label in test:\n",
        "\n",
        "    if current_img == 5:\n",
        "      break\n",
        "    # store true label for later\n",
        "    true_label = str(test.classes[label]).lower()\n",
        "\n",
        "    # Get PIL image of current image\n",
        "    cur_PIL = image\n",
        "\n",
        "    # Classify image and obtain predicted labels, probabilities\n",
        "    # Convert PIL image back to tensor\n",
        "    # # Replace these lines with the proper label from dataset\n",
        "    # c, s, probabilities = classify_image(image, model=model, data=test)\n",
        "    # one_hot_encoding_of_label = torch.zeros(10, device=device)\n",
        "    # one_hot_encoding_of_label[probabilities.argmax()] = 1\n",
        "    # label = one_hot_encoding_of_label\n",
        "    print(f\"Obtaining perturbations for image #{current_img}\")\n",
        "    response = generate_response(prompt, 400)\n",
        "    json_list = json.loads(extract_text_between_brackets(response))\n",
        "    loss = float('inf')\n",
        "    # initialize perturbed_img object to use outside of try block\n",
        "    perturbed_img = cur_PIL\n",
        "\n",
        "    if json_list != \"[]\":\n",
        "      remove_indices = []\n",
        "      print(\"Applying perturbations...\")\n",
        "      # initialize perturbed_img object to use outside of try block\n",
        "      # perturbed_img = transforms.functional.to_pil_image(image)\n",
        "      perturbation_count = 0\n",
        "      for command in json_list:\n",
        "        print(f\"apply perturbation #{perturbation_count} for image #{current_img}\")\n",
        "        if 'operation' in command.keys() and command['operation'] in valid_operations:\n",
        "          try:\n",
        "            perturbed_img = apply_action(perturbed_img, command)\n",
        "            perturbation_count += 1\n",
        "\n",
        "            # show_image(perturbed_img, title=f\"Perturbation: {command['operation']}\")\n",
        "            # Uncomment above line for seeing the operations occur\n",
        "          except:\n",
        "            print(f\"Error in operation: {command['operation']}\")\n",
        "            print(command)\n",
        "            remove_indices.append(json_list.index(command))\n",
        "        else:\n",
        "          print(f\"Illegal operation or format: {command}\")\n",
        "          remove_indices.append(json_list.index(command))\n",
        "\n",
        "      # Classify image and obtain predicted labels, probabilities\n",
        "      # Convert perturbed PIL image back to tensor\n",
        "      # perturbed_img_tens = transform(perturbed_img)\n",
        "      # perturbed_img_tens = perturbed_img_tens.to(device)\n",
        "      c, s, probabilities = classify_image(perturbed_img, model=model,\n",
        "                                            data=test)\n",
        "      # c is predicted label -> convert to lowercase for comparison\n",
        "      c = str(c).lower()\n",
        "\n",
        "      # update correct count\n",
        "      if c == true_label:\n",
        "        print(f'Correctly classified perturbed image {current_img}')\n",
        "        correct += 1\n",
        "      else:\n",
        "        print(f'Classified perturbed image {current_img} wrong')\n",
        "        # Save misclassified images and indices for later Data Analysis\n",
        "        misclassified_images.append(perturbed_img)\n",
        "        misclassified_true_images.append(cur_PIL)\n",
        "        perturbations.append(json_list)\n",
        "\n",
        "      similarity_score = image_distance(cur_PIL, perturbed_img, clip_model,\n",
        "                                        clip_preprocess)\n",
        "\n",
        "      one_hot_encoding_of_label = torch.zeros(10, device=device)\n",
        "      one_hot_encoding_of_label[probabilities.argmax()] = 1\n",
        "      loss = loss_func(one_hot_encoding_of_label, probabilities,\n",
        "                        similarity_score)\n",
        "      # loss = loss_func(label, probabilities, similarity_score)\n",
        "      # Don't feed error examples back (Might want to instead feed them as \"Bad\" examples)\n",
        "      json_list = [json_list[i] for i in range(len(json_list)) if i not in remove_indices]\n",
        "      print(f\"Current Loss: {loss}\")\n",
        "\n",
        "      # Generate new prompt\n",
        "      prompt = generate_new_perturbations_prompt(json.dumps(json_list), loss,\n",
        "                                                  perturbed_img.size)\n",
        "\n",
        "      # Update current_img count\n",
        "      current_img += 1\n",
        ""
      ],
      "metadata": {
        "id": "djcs4FYWFyhR",
        "colab": {
          "base_uri": "https://localhost:8080/"
        },
        "outputId": "fa9641a9-0480-474c-ce8a-3460183aaf14"
      },
      "execution_count": 107,
      "outputs": [
        {
          "output_type": "stream",
          "name": "stderr",
          "text": [
            "Setting `pad_token_id` to `eos_token_id`:128001 for open-end generation.\n"
          ]
        },
        {
          "output_type": "stream",
          "name": "stdout",
          "text": [
            "STARTING EPOCH: 0\n",
            "Obtaining perturbations for image #0\n"
          ]
        },
        {
          "output_type": "stream",
          "name": "stderr",
          "text": [
            "Setting `pad_token_id` to `eos_token_id`:128001 for open-end generation.\n"
          ]
        },
        {
          "output_type": "stream",
          "name": "stdout",
          "text": [
            "Applying perturbations...\n",
            "apply perturbation #0 for image #0\n",
            "apply perturbation #1 for image #0\n",
            "apply perturbation #2 for image #0\n",
            "apply perturbation #3 for image #0\n",
            "apply perturbation #4 for image #0\n",
            "Error in operation: add_patch\n",
            "{'operation': 'add_patch', 'location': [150, 150], 'size': [50, 50], 'type': 'noise'}\n",
            "apply perturbation #4 for image #0\n",
            "Error in operation: add_patch\n",
            "{'operation': 'add_patch', 'location': [80, 80], 'size': [40, 40], 'type': 'color', 'color': [0, 255, 0]}\n",
            "apply perturbation #4 for image #0\n",
            "cuda\n",
            "Correctly classified perturbed image 0\n",
            "Current Loss: tensor([1.3969], device='cuda:0')\n",
            "Obtaining perturbations for image #1\n"
          ]
        },
        {
          "output_type": "stream",
          "name": "stderr",
          "text": [
            "Setting `pad_token_id` to `eos_token_id`:128001 for open-end generation.\n"
          ]
        },
        {
          "output_type": "stream",
          "name": "stdout",
          "text": [
            "Applying perturbations...\n",
            "apply perturbation #0 for image #1\n",
            "apply perturbation #1 for image #1\n",
            "apply perturbation #2 for image #1\n",
            "apply perturbation #3 for image #1\n",
            "apply perturbation #4 for image #1\n",
            "apply perturbation #5 for image #1\n",
            "apply perturbation #6 for image #1\n",
            "Error in operation: add_patch\n",
            "{'operation': 'add_patch', 'location': [20, 20], 'size': 15, 'type': 'circle', 'color': [0.8, 0.2, 0.2]}\n",
            "apply perturbation #6 for image #1\n",
            "apply perturbation #7 for image #1\n",
            "apply perturbation #8 for image #1\n",
            "cuda\n",
            "Classified perturbed image 1 wrong\n",
            "Current Loss: tensor([1.8256], device='cuda:0')\n",
            "Obtaining perturbations for image #2\n"
          ]
        },
        {
          "output_type": "stream",
          "name": "stderr",
          "text": [
            "Setting `pad_token_id` to `eos_token_id`:128001 for open-end generation.\n"
          ]
        },
        {
          "output_type": "stream",
          "name": "stdout",
          "text": [
            "Applying perturbations...\n",
            "apply perturbation #0 for image #2\n",
            "apply perturbation #1 for image #2\n",
            "apply perturbation #2 for image #2\n",
            "apply perturbation #3 for image #2\n",
            "apply perturbation #4 for image #2\n",
            "apply perturbation #5 for image #2\n",
            "apply perturbation #6 for image #2\n",
            "Error in operation: add_patch\n",
            "{'operation': 'add_patch', 'location': [10, 10], 'size': 25, 'type': 'gaussian', 'color': 'blue'}\n",
            "apply perturbation #6 for image #2\n",
            "apply perturbation #7 for image #2\n",
            "apply perturbation #8 for image #2\n",
            "cuda\n",
            "Classified perturbed image 2 wrong\n",
            "Current Loss: tensor([1.9712], device='cuda:0')\n",
            "Obtaining perturbations for image #3\n"
          ]
        },
        {
          "output_type": "stream",
          "name": "stderr",
          "text": [
            "Setting `pad_token_id` to `eos_token_id`:128001 for open-end generation.\n"
          ]
        },
        {
          "output_type": "stream",
          "name": "stdout",
          "text": [
            "Applying perturbations...\n",
            "apply perturbation #0 for image #3\n",
            "apply perturbation #1 for image #3\n",
            "apply perturbation #2 for image #3\n",
            "apply perturbation #3 for image #3\n",
            "apply perturbation #4 for image #3\n",
            "apply perturbation #5 for image #3\n",
            "apply perturbation #6 for image #3\n",
            "apply perturbation #7 for image #3\n",
            "apply perturbation #8 for image #3\n",
            "apply perturbation #9 for image #3\n",
            "Error in operation: add_patch\n",
            "{'operation': 'add_patch', 'location': [5, 5], 'size': 25, 'type': 'gaussian', 'color': [0.8, 0.2, 0.2]}\n",
            "cuda\n",
            "Classified perturbed image 3 wrong\n",
            "Current Loss: tensor([1.5095], device='cuda:0')\n",
            "Obtaining perturbations for image #4\n",
            "Applying perturbations...\n",
            "apply perturbation #0 for image #4\n",
            "apply perturbation #1 for image #4\n",
            "apply perturbation #2 for image #4\n",
            "apply perturbation #3 for image #4\n",
            "apply perturbation #4 for image #4\n",
            "apply perturbation #5 for image #4\n",
            "apply perturbation #6 for image #4\n",
            "apply perturbation #7 for image #4\n",
            "apply perturbation #8 for image #4\n",
            "apply perturbation #9 for image #4\n",
            "Error in operation: add_patch\n",
            "{'operation': 'add_patch', 'location': [15, 15], 'size': 30, 'type': 'gaussian', 'color': [0.5, 0.5, 0.5]}\n",
            "cuda\n",
            "Classified perturbed image 4 wrong\n",
            "Current Loss: tensor([1.5737], device='cuda:0')\n"
          ]
        }
      ]
    },
    {
      "cell_type": "code",
      "source": [
        "# Check final accuracy of inferences\n",
        "print(f\"Baseline Accuracy (from fine-tuning): 93.41%\")\n",
        "print(f\"Final Accuracy: {(100 * (correct/len(test)))}%\")"
      ],
      "metadata": {
        "id": "tj6TjlBJXvzk",
        "outputId": "07b728f7-f0c0-4b75-c02a-1a6ca9745abe",
        "colab": {
          "base_uri": "https://localhost:8080/"
        }
      },
      "execution_count": 108,
      "outputs": [
        {
          "output_type": "stream",
          "name": "stdout",
          "text": [
            "Baseline Accuracy (from fine-tuning): 93.41%\n",
            "Final Accuracy: 0.01%\n"
          ]
        }
      ]
    },
    {
      "cell_type": "code",
      "source": [
        "plt.imshow(misclassified_images[0])"
      ],
      "metadata": {
        "id": "hKkDtHzxW2ak",
        "outputId": "3c6c316f-38ec-427e-ece6-4fec8b883392",
        "colab": {
          "base_uri": "https://localhost:8080/",
          "height": 447
        }
      },
      "execution_count": 109,
      "outputs": [
        {
          "output_type": "execute_result",
          "data": {
            "text/plain": [
              "<matplotlib.image.AxesImage at 0x7da6d314cb50>"
            ]
          },
          "metadata": {},
          "execution_count": 109
        },
        {
          "output_type": "display_data",
          "data": {
            "text/plain": [
              "<Figure size 640x480 with 1 Axes>"
            ],
            "image/png": "[encoded data removed]"
          },
          "metadata": {}
        }
      ]
    },
    {
      "cell_type": "code",
      "source": [
        "plt.imshow(misclassified_true_images[0])"
      ],
      "metadata": {
        "id": "pKUy5O74YjjM",
        "outputId": "36b7dcae-0b77-44d7-93ac-b57d23f2e306",
        "colab": {
          "base_uri": "https://localhost:8080/",
          "height": 447
        }
      },
      "execution_count": 110,
      "outputs": [
        {
          "output_type": "execute_result",
          "data": {
            "text/plain": [
              "<matplotlib.image.AxesImage at 0x7da6d32fecd0>"
            ]
          },
          "metadata": {},
          "execution_count": 110
        },
        {
          "output_type": "display_data",
          "data": {
            "text/plain": [
              "<Figure size 640x480 with 1 Axes>"
            ],
            "image/png": "[encoded data removed]"
          },
          "metadata": {}
        }
      ]
    }
  ]
}